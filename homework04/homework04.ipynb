{
 "cells": [
  {
   "cell_type": "markdown",
   "id": "364ac54f",
   "metadata": {},
   "source": [
    "Homework 4: Stereo 3D Reconstruction\n",
    "\n",
    "In this homework, we take two images for a stereophoto in order to do 3D reconstruction. "
   ]
  },
  {
   "cell_type": "code",
   "execution_count": 2,
   "id": "5c1833fa",
   "metadata": {},
   "outputs": [],
   "source": [
    "# Project imports\n",
    "\n",
    "import numpy as np\n",
    "import cv2\n",
    "from pathlib import Path\n"
   ]
  },
  {
   "cell_type": "code",
   "execution_count": 3,
   "id": "722bd58a",
   "metadata": {},
   "outputs": [],
   "source": [
    "# Section 1: File setup\n"
   ]
  }
 ],
 "metadata": {
  "kernelspec": {
   "display_name": "computer_vision_env",
   "language": "python",
   "name": "python3"
  },
  "language_info": {
   "codemirror_mode": {
    "name": "ipython",
    "version": 3
   },
   "file_extension": ".py",
   "mimetype": "text/x-python",
   "name": "python",
   "nbconvert_exporter": "python",
   "pygments_lexer": "ipython3",
   "version": "3.13.7"
  }
 },
 "nbformat": 4,
 "nbformat_minor": 5
}
