{
 "cells": [
  {
   "cell_type": "markdown",
   "id": "364ac54f",
   "metadata": {},
   "source": [
    "Homework 4: Stereo 3D Reconstruction\n",
    "\n",
    "In this homework, we take two images for a stereophoto in order to do 3D reconstruction. "
   ]
  }
 ],
 "metadata": {
  "language_info": {
   "name": "python"
  }
 },
 "nbformat": 4,
 "nbformat_minor": 5
}
